{
 "cells": [
  {
   "attachments": {},
   "cell_type": "markdown",
   "metadata": {
    "nteract": {
     "transient": {
      "deleting": false
     }
    }
   },
   "source": [
    "### 1.构建你的第一个提示\n",
    "\n",
    "这个简短的练习将为你介绍如何向OpenAI模型提交用于简单任务“summarization（总结）”的提示。\n",
    "\n",
    "![](images/generative-AI-models-reduced.jpg)\n",
    "\n",
    "**步骤**：\n",
    "1. 在你的Python环境中安装OpenAI库。\n",
    "2. 加载标准辅助库，并设置你通常用于你所创建的OpenAI服务的安全凭据。\n",
    "3. 为你的任务选择一个模型。\n",
    "4. 为模型创建一个简单的提示。\n",
    "5. 将你的请求提交到模型API！"
   ]
  },
  {
   "cell_type": "code",
   "execution_count": 2,
   "metadata": {
    "gather": {
     "logged": 1674829434433
    },
    "jupyter": {
     "outputs_hidden": false,
     "source_hidden": false
    },
    "nteract": {
     "transient": {
      "deleting": false
     }
    }
   },
   "outputs": [],
   "source": [
    "import os\n",
    "from openai import AzureOpenAI\n",
    "from IPython.display import Markdown\n",
    "from dotenv import load_dotenv\n",
    "\n",
    "load_dotenv()\n",
    "\n",
    "client = AzureOpenAI(\n",
    "    azure_endpoint = os.environ[\"AZURE_OPENAI_ENDPOINT\"],\n",
    "    api_key = os.environ[\"AZURE_OPENAI_API_KEY\"],\n",
    "    api_version = os.environ[\"AZURE_OPENAI_API_VERSION\"],\n",
    "  )\n",
    "\n",
    "deployment = os.environ[\"AZURE_OPENAI_GPT_MODEL\"]"
   ]
  },
  {
   "cell_type": "markdown",
   "metadata": {},
   "source": [
    "\n",
    "### 2. 寻找合适的模型  \n",
    "GPT-3.5-turbo 或 GPT-4 模型可以理解并生成自然语言。该服务提供了四种模型能力，每种能力都具有不同的强度和速度，适用于不同的任务。\n"
   ]
  },
  {
   "cell_type": "code",
   "execution_count": 3,
   "metadata": {
    "gather": {
     "logged": 1674742720788
    },
    "jupyter": {
     "outputs_hidden": true,
     "source_hidden": false
    },
    "nteract": {
     "transient": {
      "deleting": false
     }
    }
   },
   "outputs": [],
   "source": [
    "# Select the General Purpose curie model for text\n",
    "deployment = os.environ[\"AZURE_OPENAI_GPT_MODEL\"]"
   ]
  },
  {
   "attachments": {},
   "cell_type": "markdown",
   "metadata": {
    "nteract": {
     "transient": {
      "deleting": false
     }
    }
   },
   "source": [
    "### 3. 提示设计  \n",
    "\n",
    "大型语言模型的魔力在于通过在大量文本上进行训练以最小化预测错误，模型最终学会了对这些预测有用的概念。例如，它们学会了如下概念：\n",
    "\n",
    "- 如何拼写\n",
    "- 语法的工作原理\n",
    "- 如何改写\n",
    "- 如何回答问题\n",
    "- 如何进行对话\n",
    "- 如何用多种语言书写\n",
    "- 如何编码\n",
    "- 等等\n",
    "\n",
    "#### 如何控制大型语言模型  \n",
    "\"对于大型语言模型的所有输入中，最具影响力的是文本提示(1)。\n",
    "\n",
    "可以通过以下几种方式来提示大型语言模型生成输出：\n",
    "\n",
    "- 指导：告诉模型你想要什么\n",
    "- 完整：诱导模型完成你想要的开头部分\n",
    "- 演示：向模型展示你想要的内容，可以是：\n",
    "- 在提示中提供少量示例\n",
    "- 在微调训练数据集中提供成百上千个示例\n",
    "\n",
    "\n",
    "#### 创建提示的三个基本指导原则：\n",
    "\n",
    "**展示和告诉**。清楚地表明你想要什么，可以通过指导、示例或两者的组合来完成。如果你希望模型对一个项目列表按字母顺序进行排名，或者对一个段落进行情感分类，清楚地告诉模型这就是你想要的。\n",
    "\n",
    "**提供高质量数据**。如果你试图构建一个分类器或让模型遵循某种模式，请确保有足够的示例。务必校对你的示例——模型通常足够智能，可以纠正基本的拼写错误并给出响应，但它也可能会认为这是故意的，从而影响响应结果。\n",
    "\n",
    "**检查你的设置。** 温度和top_p设置控制模型在生成响应时的确定性程度。如果你要求模型给出只有一个正确答案的响应，那么你需要把这些设置调低。如果你希望获取更多样化的响应，那么你可能需要将它们调高。人们在使用这些设置时最常犯的错误是认为它们可以控制“聪明”或“创造力”。\n",
    "\n",
    "来源: https://github.com/Azure/OpenAI/blob/main/How%20to/Completions.md"
   ]
  },
  {
   "attachments": {},
   "cell_type": "markdown",
   "metadata": {
    "nteract": {
     "transient": {
      "deleting": false
     }
    }
   },
   "source": [
    "![](images/prompt_design.jpg)\n",
    "创建你的第一个文本提示！"
   ]
  },
  {
   "attachments": {},
   "cell_type": "markdown",
   "metadata": {
    "nteract": {
     "transient": {
      "deleting": false
     }
    }
   },
   "source": [
    "### 4. 提交！"
   ]
  },
  {
   "cell_type": "code",
   "execution_count": 20,
   "metadata": {
    "gather": {
     "logged": 1674494935186
    },
    "jupyter": {
     "outputs_hidden": false,
     "source_hidden": false
    },
    "nteract": {
     "transient": {
      "deleting": false
     }
    }
   },
   "outputs": [
    {
     "data": {
      "text/markdown": [
       "牛津逗号是指在列表中的最后两个项目之间使用逗号，例如：“苹果、香蕉、和橙子”。在英美写作中，使用牛津逗号是一个常见的写作风格。一些人主张使用牛津逗号可以避免歧义，使句子更清晰易懂。然而，并非所有风格指南都要求使用牛津逗号。最重要的是，你在写作时应该遵循你所在领域的相关规范和约定，或者根据你的写作风格来决定是否使用牛津逗号。"
      ],
      "text/plain": [
       "<IPython.core.display.Markdown object>"
      ]
     },
     "execution_count": 20,
     "metadata": {},
     "output_type": "execute_result"
    }
   ],
   "source": [
    "# Create your first prompt\n",
    "text_prompt = \"是否应始终使用牛津逗号？\"\n",
    "\n",
    "response = client.chat.completions.create(\n",
    "  model=deployment,\n",
    "  messages = [{\"role\":\"system\", \"content\":\"你是一个很有帮助的助手。\"},\n",
    "               {\"role\":\"user\",\"content\":text_prompt},])\n",
    "\n",
    "Markdown(response.choices[0].message.content)"
   ]
  },
  {
   "attachments": {},
   "cell_type": "markdown",
   "metadata": {
    "nteract": {
     "transient": {
      "deleting": false
     }
    }
   },
   "source": [
    "### 重复相同的调用，结果如何比较？"
   ]
  },
  {
   "cell_type": "code",
   "execution_count": 21,
   "metadata": {
    "gather": {
     "logged": 1674494940872
    },
    "jupyter": {
     "outputs_hidden": false,
     "source_hidden": false
    },
    "nteract": {
     "transient": {
      "deleting": false
     }
    }
   },
   "outputs": [
    {
     "data": {
      "text/markdown": [
       "牛津逗号指的是在列举项目时在最后一个项目前加上逗号，例如：苹果、梨子、和橙子。使用牛津逗号通常是根据所使用的风格指南或个人偏好来决定的。一些风格指南强调使用牛津逗号以确保清晰和一致的表达，而另一些则认为可以在没有歧义的情况下省略它。因此，应根据特定的写作指南或者你自己的喜好来决定是否使用牛津逗号。"
      ],
      "text/plain": [
       "<IPython.core.display.Markdown object>"
      ]
     },
     "execution_count": 21,
     "metadata": {},
     "output_type": "execute_result"
    }
   ],
   "source": [
    "\n",
    "response = client.chat.completions.create(\n",
    "  model=deployment,\n",
    "  messages = [{\"role\":\"system\", \"content\":\"你是一个很有帮助的助手。\"},\n",
    "               {\"role\":\"user\",\"content\":text_prompt},])\n",
    "\n",
    "Markdown(response.choices[0].message.content)"
   ]
  },
  {
   "attachments": {},
   "cell_type": "markdown",
   "metadata": {
    "nteract": {
     "transient": {
      "deleting": false
     }
    }
   },
   "source": [
    "## 文本摘要  \n",
    "#### 挑战  \n",
    "通过在文本段落末尾添加'tl;dr:'来总结文本。注意模型如何理解如何执行多项任务而无需额外说明。你可以尝试使用比'tl;dr'更具描述性的提示词来修改模型的行为，并定制您收到的摘要(3)。  \n",
    "\n",
    "最近的研究表明，通过在大量文本语料库上进行预训练，然后在特定任务上进行微调，许多自然语言处理任务和基准测试取得了实质性的进展。虽然通常在体系结构上不受特定任务的影响，但这种方法仍然需要数千或数万个示例的特定任务微调数据集。相比之下，人类通常可以仅通过少量示例或简单的说明执行新的语言任务，而当前的自然语言处理系统在这方面仍然很大程度上存在困难。我们在这里展示，扩大语言模型能够极大提高通用任务的少示例性能，有时甚至能够达到先前的最先进微调方法的竞争力。  \n",
    "\n",
    "Tl;dr:  通过扩大语言模型可大大提高通用任务的少示例性能。"
   ]
  },
  {
   "attachments": {},
   "cell_type": "markdown",
   "metadata": {
    "nteract": {
     "transient": {
      "deleting": false
     }
    }
   },
   "source": [
    "# 几种用例的练习\n",
    "\n",
    "## 1. 文本摘要\n",
    "在该练习中，你将使用不同的提示词，练习提示工程来总结给定文本。\n",
    "\n",
    "## 2. 文本分类\n",
    "通过使用不同的提示来构建一个文本分类模型，以对文本进行分类。\n",
    "\n",
    "## 3. 生成新的产品名称\n",
    "尝试使用零示例、单示例或少示例的思维链来生成新的产品名称。\n"
   ]
  },
  {
   "cell_type": "code",
   "execution_count": 22,
   "metadata": {
    "gather": {
     "logged": 1674495198534
    },
    "jupyter": {
     "outputs_hidden": false,
     "source_hidden": false
    },
    "nteract": {
     "transient": {
      "deleting": false
     }
    }
   },
   "outputs": [],
   "source": [
    "prompt = \"最近的研究表明，通过在大型文本语料库上进行预训练，然后在特定任务上进行微调，在许多 NLP 任务和基准测试中都取得了巨大的进步。虽然这种方法的架构通常与任务无关，但仍需要数千或数万例的特定任务微调数据集。相比之下，人类通常只需几个示例或简单的指令就能完成一项新的语言任务，而目前的 NLP 系统在很大程度上仍难以做到这一点。在这里，我们展示了扩大语言模型的规模可以极大地提高与任务无关的、少数几个实例的性能，有时甚至可以达到与之前最先进的微调方法相媲美的水平。\"\n"
   ]
  },
  {
   "cell_type": "code",
   "execution_count": 23,
   "metadata": {
    "gather": {
     "logged": 1674495201868
    },
    "jupyter": {
     "outputs_hidden": false,
     "source_hidden": false
    },
    "nteract": {
     "transient": {
      "deleting": false
     }
    }
   },
   "outputs": [
    {
     "data": {
      "text/markdown": [
       "这是一些令人振奋的研究成果！传统的 NLP 系统通常需要大量的任务特定数据来进行微调，但通过预训练大型语言模型并在特定任务上进行微调，研究表明可以在某些情况下取得与之前最先进的微调方法相媲美的性能。这意味着语言模型的规模和预训练的重要性，以及在将来进一步改进 NLP 系统中的潜力。这些结果为未来的研究和应用提供了许多令人兴奋的可能性。"
      ],
      "text/plain": [
       "<IPython.core.display.Markdown object>"
      ]
     },
     "execution_count": 23,
     "metadata": {},
     "output_type": "execute_result"
    }
   ],
   "source": [
    "#Setting a few additional, typical parameters during API Call\n",
    "\n",
    "response = client.chat.completions.create(\n",
    "  model=deployment,\n",
    "  messages = [{\"role\":\"system\", \"content\":\"你是一个很有帮助的助手。\"},\n",
    "               {\"role\":\"user\",\"content\":prompt},])\n",
    "\n",
    "Markdown(response.choices[0].message.content)"
   ]
  },
  {
   "attachments": {},
   "cell_type": "markdown",
   "metadata": {
    "nteract": {
     "transient": {
      "deleting": false
     }
    }
   },
   "source": [
    "## 文本分类  \n",
    "#### 挑战  \n",
    "在推理时将项目分类。 在下面的示例中，我们在提示(*playground_reference)中提供了类别和要分类的文本。\n",
    "\n",
    "客户咨询：你好，我的笔记本键盘上的一个键最近坏了，我需要换一个。\n",
    "\n",
    "分类的类别："
   ]
  },
  {
   "cell_type": "code",
   "execution_count": 24,
   "metadata": {
    "gather": {
     "logged": 1674499424645
    },
    "jupyter": {
     "outputs_hidden": false,
     "source_hidden": false
    },
    "nteract": {
     "transient": {
      "deleting": false
     }
    }
   },
   "outputs": [
    {
     "data": {
      "text/markdown": [
       "将以下查询归入以下类别之一： [定价、硬件支持、软件支持]： 你好，我的笔记本电脑键盘上的一个键最近坏了，我需要一个替代品。：\n",
       "\n",
       "分类类别："
      ],
      "text/plain": [
       "<IPython.core.display.Markdown object>"
      ]
     },
     "execution_count": 24,
     "metadata": {},
     "output_type": "execute_result"
    }
   ],
   "source": [
    "prompt = \"将以下查询归入以下类别之一： [定价、硬件支持、软件支持]： 你好，我的笔记本电脑键盘上的一个键最近坏了，我需要一个替代品。：\\n\\n分类类别：\"\n",
    "Markdown(prompt)"
   ]
  },
  {
   "cell_type": "code",
   "execution_count": 25,
   "metadata": {
    "gather": {
     "logged": 1674499378518
    },
    "jupyter": {
     "outputs_hidden": false,
     "source_hidden": false
    },
    "nteract": {
     "transient": {
      "deleting": false
     }
    }
   },
   "outputs": [
    {
     "data": {
      "text/plain": [
       "'硬件支持'"
      ]
     },
     "execution_count": 25,
     "metadata": {},
     "output_type": "execute_result"
    }
   ],
   "source": [
    "#Setting a few additional, typical parameters during API Call\n",
    "\n",
    "response = client.chat.completions.create(\n",
    "  model=deployment,\n",
    "  messages = [{\"role\":\"system\", \"content\":\"你是一个很有帮助的助手。\"},\n",
    "               {\"role\":\"user\",\"content\":prompt},])\n",
    "\n",
    "response.choices[0].message.content"
   ]
  },
  {
   "attachments": {},
   "cell_type": "markdown",
   "metadata": {
    "nteract": {
     "transient": {
      "deleting": false
     }
    }
   },
   "source": [
    "## 生成新产品名称\n",
    "#### 挑战\n",
    "从示例词中创建产品名称。在此，我们在提示中包含了关于我们将要为其生成名称的产品的信息。我们还提供了一个类似的示例，以显示我们希望接收到的模式。我们还设置了较高的温度值，以增加随机性和更有创意的响应。\n",
    "\n",
    "产品描述：家用奶昔制造机\n",
    "种子词：快速，健康，紧凑\n",
    "产品名称：家用摇摇杯，健康摇摇杯，快速奶昔，摇摇机制造器\n",
    "\n",
    "产品描述：可以适应任何脚型的一双鞋\n",
    "种子词：适应性强，合身，全尺寸适应"
   ]
  },
  {
   "cell_type": "code",
   "execution_count": 26,
   "metadata": {
    "gather": {
     "logged": 1674257087279
    },
    "jupyter": {
     "outputs_hidden": false,
     "source_hidden": false
    },
    "nteract": {
     "transient": {
      "deleting": false
     }
    }
   },
   "outputs": [
    {
     "data": {
      "text/markdown": [
       "产品描述 A home milkshake maker\n",
       "Seed words: fast, healthy, compact.\n",
       "Product names： HomeShaker, Fit Shaker, QuickShake, Shake Maker\n",
       " 产品描述：一双适合任何脚型的鞋子： 一双适合任何脚型的鞋子。."
      ],
      "text/plain": [
       "<IPython.core.display.Markdown object>"
      ]
     },
     "execution_count": 26,
     "metadata": {},
     "output_type": "execute_result"
    }
   ],
   "source": [
    "prompt = \"产品描述 A home milkshake maker\\nSeed words: fast, healthy, compact.\\nProduct names： HomeShaker, Fit Shaker, QuickShake, Shake Maker\\n 产品描述：一双适合任何脚型的鞋子： 一双适合任何脚型的鞋子。.\"\n",
    "\n",
    "Markdown(prompt)"
   ]
  },
  {
   "cell_type": "code",
   "execution_count": 27,
   "metadata": {
    "jupyter": {
     "outputs_hidden": false,
     "source_hidden": false
    },
    "nteract": {
     "transient": {
      "deleting": false
     }
    }
   },
   "outputs": [
    {
     "data": {
      "text/plain": [
       "'抱歉，我可能误解了您的需求。您想要我帮您描述一款家用奶昔制作机吗？如果是的话，我可以为您提供一个产品描述。\\n\\n产品名称：QuickShake\\n特点：快速，健康，紧凑\\n描述：QuickShake是一款家用奶昔制作机，旨在让您在家轻松制作健康的奶昔。其快速搅拌功能可快速将新鲜水果、蔬菜和酸奶混合制成美味的奶昔，满足您的快速健康饮食需求。紧凑的设计意味着它不会占用太多的台面空间，为您的家居增添便利。无论您是处于工作日的早晨还是周末的下午，QuickShake都是您的理想选择，帮助您轻松享受美味的健康奶昔。\\n\\n希望这个描述符合您的需求，如果您需要进一步的修改或帮助，请随时告诉我。'"
      ]
     },
     "execution_count": 27,
     "metadata": {},
     "output_type": "execute_result"
    }
   ],
   "source": [
    "#Setting a few additional, typical parameters during API Call\n",
    "\n",
    "response = client.chat.completions.create(\n",
    "  model=deployment,\n",
    "  messages = [{\"role\":\"system\", \"content\":\"你是一个很有帮助的助手。\"},\n",
    "               {\"role\":\"user\",\"content\":prompt}])\n",
    "\n",
    "response.choices[0].message.content"
   ]
  }
 ],
 "metadata": {
  "kernel_info": {
   "name": "python310-sdkv2"
  },
  "kernelspec": {
   "display_name": "base",
   "language": "python",
   "name": "python3"
  },
  "language_info": {
   "codemirror_mode": {
    "name": "ipython",
    "version": 3
   },
   "file_extension": ".py",
   "mimetype": "text/x-python",
   "name": "python",
   "nbconvert_exporter": "python",
   "pygments_lexer": "ipython3",
   "version": "3.12.2"
  },
  "microsoft": {
   "host": {
    "AzureML": {
     "notebookHasBeenCompleted": true
    }
   }
  },
  "nteract": {
   "version": "nteract-front-end@1.0.0"
  }
 },
 "nbformat": 4,
 "nbformat_minor": 2
}
