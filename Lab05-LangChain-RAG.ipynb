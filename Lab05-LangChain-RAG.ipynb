{
 "cells": [
  {
   "cell_type": "markdown",
   "metadata": {},
   "source": [
    "### 初始化"
   ]
  },
  {
   "cell_type": "code",
   "execution_count": 11,
   "metadata": {},
   "outputs": [],
   "source": [
    "import os\n",
    "import IPython\n",
    "from langchain_openai import AzureOpenAIEmbeddings\n",
    "from langchain_openai import AzureChatOpenAI\n",
    "from langchain.vectorstores import DocArrayInMemorySearch\n",
    "from langchain.indexes import VectorstoreIndexCreator\n",
    "from dotenv import load_dotenv\n",
    "\n",
    "load_dotenv('.env', override=True)\n",
    "\n",
    "embeddings = AzureOpenAIEmbeddings(\n",
    "    azure_deployment = os.environ[\"AZURE_OPENAI_EMBEDDING_MODEL\"],\n",
    ")\n",
    "\n",
    "llm = AzureChatOpenAI(\n",
    "    azure_deployment = os.environ[\"AZURE_OPENAI_GPT_MODEL\"],\n",
    ")\n"
   ]
  },
  {
   "cell_type": "code",
   "execution_count": 12,
   "metadata": {},
   "outputs": [
    {
     "data": {
      "text/plain": [
       "AIMessage(content='你好！有什么可以帮助你的吗？', response_metadata={'finish_reason': 'stop', 'logprobs': None, 'content_filter_results': {'hate': {'filtered': False, 'severity': 'safe'}, 'self_harm': {'filtered': False, 'severity': 'safe'}, 'sexual': {'filtered': False, 'severity': 'safe'}, 'violence': {'filtered': False, 'severity': 'safe'}}})"
      ]
     },
     "execution_count": 12,
     "metadata": {},
     "output_type": "execute_result"
    }
   ],
   "source": [
    "llm.invoke(\"你好\")"
   ]
  },
  {
   "cell_type": "markdown",
   "metadata": {},
   "source": [
    "## 把ChatGPT变成业务知识问答机器人\n",
    "## use ChatGPT to become a business knowledge QA robot\n",
    "\n",
    "- 使用Embedding(嵌入)技术给ChatGPT引入知识\n",
    "- ues Embedding technology to introduce knowledge to ChatGPT\n",
    "- 不改动模型，没有Fine-tune过程\n",
    "- dont change the model, no Fine-tune process\n",
    "- 利用模型思维，推理和总结能力输出结果\n",
    "- leverage model thinking, reasoning and summarization capabilities to output results\n",
    "- 时间成本极低\n",
    "- low time cost"
   ]
  },
  {
   "cell_type": "code",
   "execution_count": 15,
   "metadata": {},
   "outputs": [],
   "source": [
    "#将知识库嵌入\n",
    "from langchain.document_loaders import PyPDFLoader\n",
    "loader = PyPDFLoader(\".\\\\content\\\\2023中国候鸟式养老冬季栖息地适宜度指数.pdf\")\n",
    "documents = loader.load()\n",
    "\n",
    "index = VectorstoreIndexCreator(\n",
    "    vectorstore_cls=DocArrayInMemorySearch,embedding=embeddings\n",
    ").from_loaders([loader])"
   ]
  },
  {
   "cell_type": "code",
   "execution_count": 17,
   "metadata": {},
   "outputs": [
    {
     "data": {
      "text/markdown": [
       "根据给出的文本信息，冬季养老城市的排名如下：\n",
       "\n",
       "1. 三亚市，海南省\n",
       "2. 海口市，海南省\n",
       "3. 琼海市，海南省\n",
       "4. 广州市，广东省\n",
       "5. 珠海市，广东省\n",
       "6. 南宁市，广西壮族自治区\n",
       "7. 柳州市，广西壮族自治区\n",
       "8. 厦门市，福建省\n",
       "9. 深圳市，广东省\n",
       "10. 江门市，广东省\n",
       "\n",
       "这是根据适宜度指数排名的结果。"
      ],
      "text/plain": [
       "<IPython.core.display.Markdown object>"
      ]
     },
     "execution_count": 17,
     "metadata": {},
     "output_type": "execute_result"
    }
   ],
   "source": [
    "query = \"冬季养老城市是怎样排名的？\"\n",
    "#\"what are difference between Visual Studio 2022 Professional and Visual Studio 2022 Enterprise？\"\n",
    "response = index.query(query,llm=llm)\n",
    "IPython.display.Markdown(response)"
   ]
  },
  {
   "cell_type": "code",
   "execution_count": 18,
   "metadata": {},
   "outputs": [
    {
     "data": {
      "text/markdown": [
       "珠海市位于珠江口西岸，被誉为“百岛之城”和“花园城市”，拥有长海岸线和优质的山水资源。该市冬季气候温和，空气清新，适合冬季候鸟式养老。此外，珠海拥有长隆海洋王国和正在规划中的珠海·宋城演艺度假区等旅游景点，以及便捷的交通和丰富的文化娱乐生活。"
      ],
      "text/plain": [
       "<IPython.core.display.Markdown object>"
      ]
     },
     "execution_count": 18,
     "metadata": {},
     "output_type": "execute_result"
    }
   ],
   "source": [
    "query = \"珠海市有什么特色\"\n",
    "response = index.query(query,llm=llm)\n",
    "IPython.display.Markdown(response)"
   ]
  }
 ],
 "metadata": {
  "kernelspec": {
   "display_name": "Python 3",
   "language": "python",
   "name": "python3"
  },
  "language_info": {
   "codemirror_mode": {
    "name": "ipython",
    "version": 3
   },
   "file_extension": ".py",
   "mimetype": "text/x-python",
   "name": "python",
   "nbconvert_exporter": "python",
   "pygments_lexer": "ipython3",
   "version": "3.12.2"
  },
  "orig_nbformat": 4
 },
 "nbformat": 4,
 "nbformat_minor": 2
}
