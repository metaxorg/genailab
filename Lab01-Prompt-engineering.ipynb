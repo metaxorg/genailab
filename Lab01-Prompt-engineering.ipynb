{
 "cells": [
  {
   "cell_type": "markdown",
   "metadata": {},
   "source": [
    "### prompt:提示 \n",
    "以下笔记本是由 GitHub Copilot Chat 自动生成的，仅用于初始设置。\n",
    "\n"
   ]
  },
  {
   "cell_type": "markdown",
   "metadata": {},
   "source": [
    "# 提示工程简介\n",
    "提示工程是设计和优化自然语言处理任务中提示的过程。它涉及选择合适的提示词、调整其参数和评估其性能。提示工程对于实现自然语言处理模型的高准确度和高效性至关重要。在本节中，我们将使用OpenAI模型来探讨提示工程的基础知识。"
   ]
  },
  {
   "cell_type": "markdown",
   "metadata": {},
   "source": [
    "### 练习 1：分词\n",
    "使用tiktoken进行标记化的探索，这是一种来自OpenAI的开源快速分词工具。\n",
    "更多示例请参阅[OpenAI Cookbook](https://github.com/openai/openai-cookbook/blob/main/examples/How_to_count_tokens_with_tiktoken.ipynb?WT.mc_id=academic-105485-koreyst)。"
   ]
  },
  {
   "cell_type": "code",
   "execution_count": 3,
   "metadata": {},
   "outputs": [
    {
     "name": "stdout",
     "output_type": "stream",
     "text": [
      "[198, 76505, 78519, 21043, 36596, 251, 54656, 119, 8192, 103, 83175, 30537, 76208, 60358, 9554, 23039, 78519, 3922, 75863, 21043, 8192, 103, 83175, 39276, 16325, 32335, 27384, 9554, 23039, 78519, 1811, 8676, 225, 21043, 15120, 19817, 245, 17597, 101, 27384, 9554, 30320, 242, 33014, 23039, 78519, 3922, 13647, 101, 33857, 21043, 8192, 103, 83175, 9554, 11239, 225, 17620, 55030, 15120, 3922, 21043, 8192, 103, 83175, 39276, 16325, 93994, 23039, 78519, 13647, 101, 33857, 60843, 34208, 9554, 78640, 98406, 11239, 232, 1811, 76505, 78519, 21043, 8192, 250, 35894, 16325, 32335, 6823, 106, 9554, 53953, 33014, 55030, 15120, 3922, 70892, 116, 27280, 120, 31540, 90070, 91495, 3574, 242, 37026, 5877, 97, 17161, 31958, 23897, 37507, 81258, 18184, 17792, 32938, 53283, 3922, 6079, 102, 35304, 19361, 66677, 9554, 82302, 5877, 110, 1811, 8676, 225, 23897, 15581, 245, 77180, 105, 55228, 252, 58543, 16325, 9554, 76505, 78519, 55030, 55228, 252, 51609, 13372, 1811, 58, 777, 60, 220, 46281, 30590, 79059, 17905, 19658, 224, 15973, 253, 3922, 76505, 78519, 50266, 111, 8192, 253, 31958, 6823, 106, 3922, 42246, 95543, 16175, 226, 6708, 231, 50266, 111, 23897, 80172, 17297, 31540, 90070, 9554, 33443, 112, 58322, 3922, 50211, 28638, 229, 37507, 37687, 3922, 8676, 225, 21043, 12774, 100, 9953, 79059, 34208, 35330, 78519, 55030, 34547, 8192, 250, 35894, 16325, 30537, 46091, 6823, 106, 9554, 37026, 61994, 53953, 33014, 9174]\n"
     ]
    },
    {
     "data": {
      "text/plain": [
       "[b'\\n',\n",
       " b'\\xe6\\x9c\\xa8',\n",
       " b'\\xe6\\x98\\x9f',\n",
       " b'\\xe6\\x98\\xaf',\n",
       " b'\\xe8\\xb7',\n",
       " b'\\x9d',\n",
       " b'\\xe7\\xa6',\n",
       " b'\\xbb',\n",
       " b'\\xe5\\xa4',\n",
       " b'\\xaa',\n",
       " b'\\xe9\\x98\\xb3',\n",
       " b'\\xe7\\xac\\xac',\n",
       " b'\\xe4\\xba\\x94',\n",
       " b'\\xe8\\xbf\\x91',\n",
       " b'\\xe7\\x9a\\x84',\n",
       " b'\\xe8\\xa1\\x8c',\n",
       " b'\\xe6\\x98\\x9f',\n",
       " b'\\xef\\xbc\\x8c',\n",
       " b'\\xe4\\xb9\\x9f',\n",
       " b'\\xe6\\x98\\xaf',\n",
       " b'\\xe5\\xa4',\n",
       " b'\\xaa',\n",
       " b'\\xe9\\x98\\xb3',\n",
       " b'\\xe7\\xb3\\xbb',\n",
       " b'\\xe4\\xb8\\xad',\n",
       " b'\\xe6\\x9c\\x80',\n",
       " b'\\xe5\\xa4\\xa7',\n",
       " b'\\xe7\\x9a\\x84',\n",
       " b'\\xe8\\xa1\\x8c',\n",
       " b'\\xe6\\x98\\x9f',\n",
       " b'\\xe3\\x80\\x82',\n",
       " b'\\xe5\\xae',\n",
       " b'\\x83',\n",
       " b'\\xe6\\x98\\xaf',\n",
       " b'\\xe4\\xb8\\x80',\n",
       " b'\\xe9\\xa2',\n",
       " b'\\x97',\n",
       " b'\\xe5\\xb7',\n",
       " b'\\xa8',\n",
       " b'\\xe5\\xa4\\xa7',\n",
       " b'\\xe7\\x9a\\x84',\n",
       " b'\\xe6\\xb0',\n",
       " b'\\x94',\n",
       " b'\\xe4\\xbd\\x93',\n",
       " b'\\xe8\\xa1\\x8c',\n",
       " b'\\xe6\\x98\\x9f',\n",
       " b'\\xef\\xbc\\x8c',\n",
       " b'\\xe8\\xb4',\n",
       " b'\\xa8',\n",
       " b'\\xe9\\x87\\x8f',\n",
       " b'\\xe6\\x98\\xaf',\n",
       " b'\\xe5\\xa4',\n",
       " b'\\xaa',\n",
       " b'\\xe9\\x98\\xb3',\n",
       " b'\\xe7\\x9a\\x84',\n",
       " b'\\xe5\\x8d',\n",
       " b'\\x83',\n",
       " b'\\xe5\\x88\\x86',\n",
       " b'\\xe4\\xb9\\x8b',\n",
       " b'\\xe4\\xb8\\x80',\n",
       " b'\\xef\\xbc\\x8c',\n",
       " b'\\xe6\\x98\\xaf',\n",
       " b'\\xe5\\xa4',\n",
       " b'\\xaa',\n",
       " b'\\xe9\\x98\\xb3',\n",
       " b'\\xe7\\xb3\\xbb',\n",
       " b'\\xe4\\xb8\\xad',\n",
       " b'\\xe5\\x85\\xb6\\xe4\\xbb\\x96',\n",
       " b'\\xe8\\xa1\\x8c',\n",
       " b'\\xe6\\x98\\x9f',\n",
       " b'\\xe8\\xb4',\n",
       " b'\\xa8',\n",
       " b'\\xe9\\x87\\x8f',\n",
       " b'\\xe6\\x80\\xbb',\n",
       " b'\\xe5\\x92\\x8c',\n",
       " b'\\xe7\\x9a\\x84',\n",
       " b'\\xe4\\xb8\\xa4',\n",
       " b'\\xe5\\x80\\x8d',\n",
       " b'\\xe5\\x8d',\n",
       " b'\\x8a',\n",
       " b'\\xe3\\x80\\x82',\n",
       " b'\\xe6\\x9c\\xa8',\n",
       " b'\\xe6\\x98\\x9f',\n",
       " b'\\xe6\\x98\\xaf',\n",
       " b'\\xe5\\xa4',\n",
       " b'\\x9c',\n",
       " b'\\xe7\\xa9\\xba',\n",
       " b'\\xe4\\xb8\\xad',\n",
       " b'\\xe6\\x9c\\x80',\n",
       " b'\\xe4\\xba',\n",
       " b'\\xae',\n",
       " b'\\xe7\\x9a\\x84',\n",
       " b'\\xe7\\x89\\xa9',\n",
       " b'\\xe4\\xbd\\x93',\n",
       " b'\\xe4\\xb9\\x8b',\n",
       " b'\\xe4\\xb8\\x80',\n",
       " b'\\xef\\xbc\\x8c',\n",
       " b'\\xe8\\xa3',\n",
       " b'\\xb8',\n",
       " b'\\xe7\\x9c',\n",
       " b'\\xbc',\n",
       " b'\\xe5\\x8f\\xaf',\n",
       " b'\\xe8\\xa7\\x81',\n",
       " b'\\xef\\xbc\\x8c\\xe5\\xb9\\xb6',\n",
       " b'\\xe4\\xb8',\n",
       " b'\\x94',\n",
       " b'\\xe8\\x87\\xaa',\n",
       " b'\\xe5\\x8f',\n",
       " b'\\xa4',\n",
       " b'\\xe6\\x96\\x87',\n",
       " b'\\xe6\\x98\\x8e',\n",
       " b'\\xe4\\xbb\\xa5',\n",
       " b'\\xe6\\x9d\\xa5',\n",
       " b'\\xe5\\xb0\\xb1',\n",
       " b'\\xe4\\xb8\\xba',\n",
       " b'\\xe4\\xba\\xba',\n",
       " b'\\xe6\\x89\\x80',\n",
       " b'\\xe7\\x9f\\xa5',\n",
       " b'\\xef\\xbc\\x8c',\n",
       " b'\\xe6\\x97',\n",
       " b'\\xa9',\n",
       " b'\\xe4\\xba\\x8e',\n",
       " b'\\xe6\\x9c\\x89',\n",
       " b'\\xe8\\xae\\xb0\\xe5\\xbd\\x95',\n",
       " b'\\xe7\\x9a\\x84',\n",
       " b'\\xe5\\x8e\\x86',\n",
       " b'\\xe5\\x8f',\n",
       " b'\\xb2',\n",
       " b'\\xe3\\x80\\x82',\n",
       " b'\\xe5\\xae',\n",
       " b'\\x83',\n",
       " b'\\xe4\\xbb\\xa5',\n",
       " b'\\xe7\\xbd',\n",
       " b'\\x97',\n",
       " b'\\xe9\\xa9',\n",
       " b'\\xac',\n",
       " b'\\xe7\\xa5',\n",
       " b'\\x9e',\n",
       " b'\\xe8\\xaf\\x9d',\n",
       " b'\\xe4\\xb8\\xad',\n",
       " b'\\xe7\\x9a\\x84',\n",
       " b'\\xe6\\x9c\\xa8',\n",
       " b'\\xe6\\x98\\x9f',\n",
       " b'\\xe4\\xb9\\x8b',\n",
       " b'\\xe7\\xa5',\n",
       " b'\\x9e',\n",
       " b'\\xe5\\x91\\xbd',\n",
       " b'\\xe5\\x90\\x8d',\n",
       " b'\\xe3\\x80\\x82',\n",
       " b'[',\n",
       " b'19',\n",
       " b']',\n",
       " b' ',\n",
       " b'\\xe4\\xbb\\x8e',\n",
       " b'\\xe5\\x9c\\xb0',\n",
       " b'\\xe7\\x90\\x83',\n",
       " b'\\xe4\\xb8\\x8a',\n",
       " b'\\xe8\\xa7',\n",
       " b'\\x82',\n",
       " b'\\xe5\\xaf',\n",
       " b'\\x9f',\n",
       " b'\\xef\\xbc\\x8c',\n",
       " b'\\xe6\\x9c\\xa8',\n",
       " b'\\xe6\\x98\\x9f',\n",
       " b'\\xe8\\xb6',\n",
       " b'\\xb3',\n",
       " b'\\xe5\\xa4',\n",
       " b'\\x9f',\n",
       " b'\\xe6\\x98\\x8e',\n",
       " b'\\xe4\\xba',\n",
       " b'\\xae',\n",
       " b'\\xef\\xbc\\x8c',\n",
       " b'\\xe5\\x85\\xb6',\n",
       " b'\\xe5\\x8f\\x8d',\n",
       " b'\\xe5\\xb0',\n",
       " b'\\x84',\n",
       " b'\\xe5\\x85',\n",
       " b'\\x89',\n",
       " b'\\xe8\\xb6',\n",
       " b'\\xb3',\n",
       " b'\\xe4\\xbb\\xa5',\n",
       " b'\\xe6\\x8a\\x95',\n",
       " b'\\xe4\\xb8\\x8b',\n",
       " b'\\xe5\\x8f\\xaf',\n",
       " b'\\xe8\\xa7\\x81',\n",
       " b'\\xe7\\x9a\\x84',\n",
       " b'\\xe9\\x98',\n",
       " b'\\xb4',\n",
       " b'\\xe5\\xbd\\xb1',\n",
       " b'\\xef\\xbc\\x8c',\n",
       " b'\\xe5\\xb9\\xb3',\n",
       " b'\\xe5\\x9d',\n",
       " b'\\x87',\n",
       " b'\\xe6\\x9d\\xa5',\n",
       " b'\\xe8\\xaf\\xb4',\n",
       " b'\\xef\\xbc\\x8c',\n",
       " b'\\xe5\\xae',\n",
       " b'\\x83',\n",
       " b'\\xe6\\x98\\xaf',\n",
       " b'\\xe7\\xbb',\n",
       " b'\\xa7',\n",
       " b'\\xe6\\x9c\\x88',\n",
       " b'\\xe7\\x90\\x83',\n",
       " b'\\xe5\\x92\\x8c',\n",
       " b'\\xe9\\x87\\x91',\n",
       " b'\\xe6\\x98\\x9f',\n",
       " b'\\xe4\\xb9\\x8b',\n",
       " b'\\xe5\\x90\\x8e',\n",
       " b'\\xe5\\xa4',\n",
       " b'\\x9c',\n",
       " b'\\xe7\\xa9\\xba',\n",
       " b'\\xe4\\xb8\\xad',\n",
       " b'\\xe7\\xac\\xac',\n",
       " b'\\xe4\\xb8\\x89',\n",
       " b'\\xe4\\xba',\n",
       " b'\\xae',\n",
       " b'\\xe7\\x9a\\x84',\n",
       " b'\\xe8\\x87\\xaa',\n",
       " b'\\xe7\\x84\\xb6',\n",
       " b'\\xe7\\x89\\xa9',\n",
       " b'\\xe4\\xbd\\x93',\n",
       " b'\\xe3\\x80\\x82\\n']"
      ]
     },
     "execution_count": 3,
     "metadata": {},
     "output_type": "execute_result"
    }
   ],
   "source": [
    "# EXERCISE:\n",
    "# 1. 首先按原样运行练习\n",
    "# 2. 将文本更改为您想要使用的提示输入，并重新运行以查看标记\n",
    "\n",
    "import tiktoken\n",
    "\n",
    "# 定义要进行标记化的提示\n",
    "text = f\"\"\"\n",
    "木星是距离太阳第五近的行星，也是太阳系中最大的行星。\\\n",
    "它是一颗巨大的气体行星，质量是太阳的千分之一，是太阳系中其他行星质量总和的两倍半。\\\n",
    "木星是夜空中最亮的物体之一，裸眼可见，并且自古文明以来就为人所知，早于有记录的历史。\\\n",
    "它以罗马神话中的木星之神命名。[19] 从地球上观察，木星足够明亮，其反射光足以投下可见的阴影，\\\n",
    "平均来说，它是继月球和金星之后夜空中第三亮的自然物体。\n",
    "\"\"\"\n",
    "\n",
    "# 设置要进行编码的模型\n",
    "encoding = tiktoken.encoding_for_model(\"gpt-3.5-turbo\")\n",
    "\n",
    "# 对文本进行编码 - 返回整数形式的标记\n",
    "tokens = encoding.encode(text)\n",
    "print(tokens);\n",
    "\n",
    "# 解码整数以查看文本版本的标记\n",
    "[encoding.decode_single_token_bytes(token) for token in tokens]\n",
    "\n"
   ]
  },
  {
   "cell_type": "markdown",
   "metadata": {},
   "source": [
    "### 练习 2：验证OpenAI API密钥设置\n",
    "\n",
    "运行以下代码以验证您的OpenAI端点是否设置正确。此代码仅尝试一个简单的基本提示，并验证完成情况。输入 `oh say can you see` 应该完成为 `by the dawn's early light..`"
   ]
  },
  {
   "cell_type": "code",
   "execution_count": 1,
   "metadata": {},
   "outputs": [
    {
     "data": {
      "text/markdown": [
       "万物复苏的季节，花开满园的季节，阳光明媚的季节，让人心情愉悦的季节。"
      ],
      "text/plain": [
       "<IPython.core.display.Markdown object>"
      ]
     },
     "execution_count": 1,
     "metadata": {},
     "output_type": "execute_result"
    }
   ],
   "source": [
    "\n",
    "## Updated\n",
    "import os\n",
    "from openai import AzureOpenAI\n",
    "from IPython.display import Markdown\n",
    "from dotenv import load_dotenv\n",
    "\n",
    "load_dotenv()\n",
    "\n",
    "client = AzureOpenAI(\n",
    "    azure_endpoint = os.environ[\"AZURE_OPENAI_ENDPOINT\"],\n",
    "    api_key = os.environ[\"AZURE_OPENAI_API_KEY\"],\n",
    "    api_version = os.environ[\"OPENAI_API_VERSION\"],\n",
    "  )\n",
    "\n",
    "deployment = os.environ[\"AZURE_OPENAI_GPT_MODEL\"]\n",
    "\n",
    "\n",
    "## Updated\n",
    "def get_completion(prompt):\n",
    "    messages = [{\"role\": \"user\", \"content\": prompt}]       \n",
    "    response = client.chat.completions.create(   \n",
    "        model=deployment,                                         \n",
    "        messages=messages,\n",
    "        temperature=0, # this is the degree of randomness of the model's output\n",
    "        max_tokens=1024\n",
    "    )\n",
    "    return response.choices[0].message.content\n",
    "\n",
    "## ---------- Call the helper method\n",
    "\n",
    "### 1. Set primary content or prompt text\n",
    "text = \"春天是\"\n",
    "\n",
    "### 2. Use that in the prompt template below\n",
    "prompt = f\"\"\"```{text}```\"\"\"\n",
    "\n",
    "## 3. Run the prompt\n",
    "response = get_completion(prompt)\n",
    "Markdown(response)\n"
   ]
  },
  {
   "cell_type": "markdown",
   "metadata": {},
   "source": [
    "### 练习 3：虚构情况\n",
    "探索当您要求LLM针对一个可能不存在的主题或者它在预训练数据集之外的主题进行完成时会发生什么。看看如果您尝试不同的提示词或不同的模型，响应会如何改变。"
   ]
  },
  {
   "cell_type": "code",
   "execution_count": 2,
   "metadata": {},
   "outputs": [
    {
     "data": {
      "text/markdown": [
       "课程名称：2076年火星战争史\n",
       "\n",
       "课程目标：\n",
       "1. 了解2076年火星战争的起因和背景\n",
       "2. 掌握火星战争期间的重要事件和战略\n",
       "3. 分析火星战争对地球和火星的影响\n",
       "4. 探讨2076年火星战争对未来国际关系和军事发展的启示\n",
       "\n",
       "课程大纲：\n",
       "\n",
       "第一周：火星殖民与紧张局势\n",
       "- 火星殖民的历史背景\n",
       "- 地球与火星的资源竞争\n",
       "- 火星殖民地的政治和军事形势\n",
       "\n",
       "第二周：火星战争爆发\n",
       "- 火星殖民地的独立运动\n",
       "- 地球国家的干预和军事行动\n",
       "- 火星战争的爆发和初期战况\n",
       "\n",
       "第三周：火星战争的发展\n",
       "- 火星战争的战略和战术\n",
       "- 火星殖民地的抵抗和反击\n",
       "- 地球国家的军事介入和反击\n",
       "\n",
       "第四周：火星战争的影响\n",
       "- 火星战争对地球和火星的影响\n",
       "- 火星战争对国际关系和军事发展的启示\n",
       "- 火星战争的历史评价和反思\n",
       "\n",
       "课程作业：\n",
       "1. 撰写一份关于火星战争起因和背景的研究报告\n",
       "2. 分析火星战争期间的重要战略和战术\n",
       "3. 就火星战争对地球和火星的影响进行讨论\n",
       "4. 撰写一份关于火星战争对未来国际关系和军事发展的启示的论文\n",
       "\n",
       "课程评估：\n",
       "1. 课堂参与和讨论\n",
       "2. 作业和报告的质量\n",
       "3. 期末考试\n",
       "\n",
       "备注：本课程旨在通过对2076年火星战争的研究和分析，帮助学生了解未来可能出现的国际冲突和战争形势，以及对未来国际关系和军事发展的启示。"
      ],
      "text/plain": [
       "<IPython.core.display.Markdown object>"
      ]
     },
     "execution_count": 2,
     "metadata": {},
     "output_type": "execute_result"
    }
   ],
   "source": [
    "\n",
    "## 设置简单提示或主要内容的文本\n",
    "## 提示符显示一个包含文本的模板格式-如果需要，可以添加提示、命令等\n",
    "## 运行补全\n",
    "\n",
    "text = f\"\"\"\n",
    "制作一份2076年火星战争的课程计划。\n",
    "\"\"\"\n",
    "\n",
    "prompt = f\"\"\"\n",
    "```{text}```\n",
    "\"\"\"\n",
    "\n",
    "response = get_completion(prompt)\n",
    "Markdown(response)"
   ]
  },
  {
   "cell_type": "markdown",
   "metadata": {},
   "source": [
    "### 练习 4：基于指示\n",
    "使用 \"text\" 变量设置主要内容，并使用 \"prompt\" 变量提供与该主要内容相关的指示。\n",
    "\n",
    "这里我们要求模型为二年级学生总结这段文本"
   ]
  },
  {
   "cell_type": "code",
   "execution_count": 8,
   "metadata": {},
   "outputs": [
    {
     "data": {
      "text/markdown": [
       "总结：木星是太阳系中第五远的行星，是一颗气体巨星，质量是太阳的千分之一，但是比太阳系中其他行星的总和还要大。木星是肉眼可见的最亮的天体之一，在夜空中可以看到它的亮度足以反射光线和投射可见阴影的光。它是以罗马神朱庇特命名的，是古代文明就已知的天体之一。"
      ],
      "text/plain": [
       "<IPython.core.display.Markdown object>"
      ]
     },
     "execution_count": 8,
     "metadata": {},
     "output_type": "execute_result"
    }
   ],
   "source": [
    "## Example text\n",
    "text = f\"\"\"\n",
    "木星是距太阳和地球第五远的行星\n",
    "太阳系中最大的。它是一颗气体巨星\n",
    "质量是太阳的千分之一，但只有2.5倍\n",
    "是太阳系中所有其他行星的总和。\n",
    "木星是肉眼可见的最亮的天体之一\n",
    "在夜空中，自古以来就为古代文明所知\n",
    "在有记载的历史之前。它是以罗马神朱庇特命名的。[19] \n",
    "从地球上看，木星的亮度足以反射光线\n",
    "投射可见阴影的光，[20]平均是第三亮的\n",
    "夜空中仅次于月亮和金星的自然天体。\n",
    "\"\"\"\n",
    "\n",
    "## Set the prompt\n",
    "prompt = f\"\"\"\n",
    "总结你为二年级学生提供的内容。\n",
    "```{text}```\n",
    "\"\"\"\n",
    "\n",
    "## Run the prompt\n",
    "response = get_completion(prompt)\n",
    "Markdown(response)"
   ]
  },
  {
   "cell_type": "markdown",
   "metadata": {},
   "source": [
    "### 练习 5: 复杂提示\n",
    "尝试一个包含系统、用户和助手消息的请求\n",
    "系统设置助手上下文\n",
    "用户和助手的消息提供多轮对话上下文\n",
    "\n",
    "注意助手的个性在系统上下文中被设置为“讽刺”。尝试使用不同的个性上下文。或尝试不同的一系列输入/输出消息"
   ]
  },
  {
   "cell_type": "code",
   "execution_count": 12,
   "metadata": {},
   "outputs": [
    {
     "data": {
      "text/markdown": [
       "唉，如果你不是在跟我开个小玩笑的话，那就不应该是中国队——他们历史上从未赢得过足球世界杯。不过，下一届FIFA男子足球世界杯将在2026年在北美举行，由美国、加拿大和墨西哥共同主办。至于谁会赢，现在下这样的赌注简直比预测天气还难。不过，通常强队如巴西、德国、阿根廷和法国之类的都有可能，但为了避免被未来打脸，我还是不具体预测比赛结果了。"
      ],
      "text/plain": [
       "<IPython.core.display.Markdown object>"
      ]
     },
     "execution_count": 12,
     "metadata": {},
     "output_type": "execute_result"
    }
   ],
   "source": [
    "response = client.chat.completions.create(\n",
    "    model=deployment,\n",
    "    messages=[\n",
    "        {\"role\": \"system\", \"content\": \"你是一个爱挖苦人的AI助手.\"},\n",
    "        {\"role\": \"user\", \"content\": \"谁会赢得下一届足球世界杯?\"},\n",
    "        {\"role\": \"assistant\", \"content\": \"还能有谁会赢？肯定是中国队.\"},\n",
    "        {\"role\": \"user\", \"content\": \"比赛在哪里举行?\"}\n",
    "    ]\n",
    ")\n",
    "Markdown(response.choices[0].message.content)"
   ]
  },
  {
   "cell_type": "markdown",
   "metadata": {},
   "source": [
    "### 练习：探索你的直觉\n",
    "上面的例子为你提供了一些模式，你可以用它们来创建新的提示（简单的、复杂的、指示等等）。尝试创建其他练习，来探索我们讨论过的其他想法，比如例子、线索等等。"
   ]
  }
 ],
 "metadata": {
  "kernelspec": {
   "display_name": "Python 3 (ipykernel)",
   "language": "python",
   "name": "python3"
  },
  "language_info": {
   "codemirror_mode": {
    "name": "ipython",
    "version": 3
   },
   "file_extension": ".py",
   "mimetype": "text/x-python",
   "name": "python",
   "nbconvert_exporter": "python",
   "pygments_lexer": "ipython3",
   "version": "3.10.13"
  }
 },
 "nbformat": 4,
 "nbformat_minor": 2
}
