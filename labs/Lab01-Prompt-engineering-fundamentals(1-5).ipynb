{
 "cells": [
  {
   "cell_type": "markdown",
   "metadata": {},
   "source": [
    "### prompt:提示 \n",
    "以下笔记本是由 GitHub Copilot Chat 自动生成的，仅用于初始设置。\n",
    "\n"
   ]
  },
  {
   "cell_type": "markdown",
   "metadata": {},
   "source": [
    "# 提示工程简介\n",
    "提示工程是设计和优化自然语言处理任务中提示的过程。它涉及选择合适的提示词、调整其参数和评估其性能。提示工程对于实现自然语言处理模型的高准确度和高效性至关重要。在本节中，我们将使用OpenAI模型来探讨提示工程的基础知识。"
   ]
  },
  {
   "cell_type": "markdown",
   "metadata": {},
   "source": [
    "### 练习 1：分词\n",
    "使用tiktoken进行标记化的探索，这是一种来自OpenAI的开源快速分词工具。\n",
    "更多示例请参阅[OpenAI Cookbook](https://github.com/openai/openai-cookbook/blob/main/examples/How_to_count_tokens_with_tiktoken.ipynb?WT.mc_id=academic-105485-koreyst)。"
   ]
  },
  {
   "cell_type": "code",
   "execution_count": null,
   "metadata": {},
   "outputs": [],
   "source": [
    "# EXERCISE:\n",
    "# 1. 首先按原样运行练习\n",
    "# 2. 将文本更改为您想要使用的提示输入，并重新运行以查看标记\n",
    "\n",
    "import tiktoken\n",
    "\n",
    "# 定义要进行标记化的提示\n",
    "text = f\"\"\"\n",
    "木星是距离太阳第五近的行星，也是太阳系中最大的行星。\\\n",
    "它是一颗巨大的气体行星，质量是太阳的千分之一，是太阳系中其他行星质量总和的两倍半。\\\n",
    "木星是夜空中最亮的物体之一，裸眼可见，并且自古文明以来就为人所知，早于有记录的历史。\\\n",
    "它以罗马神话中的木星之神命名。[19] 从地球上观察，木星足够明亮，其反射光足以投下可见的阴影，\\\n",
    "平均来说，它是继月球和金星之后夜空中第三亮的自然物体。\n",
    "\"\"\"\n",
    "\n",
    "# 设置要进行编码的模型\n",
    "encoding = tiktoken.encoding_for_model(\"gpt-3.5-turbo\")\n",
    "\n",
    "# 对文本进行编码 - 返回整数形式的标记\n",
    "tokens = encoding.encode(text)\n",
    "print(tokens);\n",
    "\n",
    "# 解码整数以查看文本版本的标记\n",
    "[encoding.decode_single_token_bytes(token) for token in tokens]\n",
    "\n"
   ]
  },
  {
   "cell_type": "markdown",
   "metadata": {},
   "source": [
    "### 练习2：验证OpenAI API密钥设置\n",
    "\n",
    "运行以下代码以验证您的OpenAI端点是否设置正确。此代码仅尝试一个简单的基本提示，并验证完成情况。输入 `oh say can you see` 应该完成为 `by the dawn's early light..`"
   ]
  },
  {
   "cell_type": "code",
   "execution_count": 6,
   "metadata": {},
   "outputs": [
    {
     "name": "stdout",
     "output_type": "stream",
     "text": [
      "抱歉，我是一个语言模型AI，我无法看见。\n"
     ]
    }
   ],
   "source": [
    "\n",
    "## Updated\n",
    "import os\n",
    "from openai import AzureOpenAI\n",
    "\n",
    "client = AzureOpenAI(\n",
    "    azure_endpoint=\"\",\n",
    "    api_key=\"\",  # this is also the default, it can be omitted\n",
    "    api_version = \"2024-02-15-preview\"\n",
    "  )\n",
    "\n",
    "## Updated\n",
    "def get_completion(prompt):\n",
    "    messages = [{\"role\": \"user\", \"content\": prompt}]       \n",
    "    response = client.chat.completions.create(   \n",
    "        model=\"\",                                         \n",
    "        messages=messages,\n",
    "        temperature=0, # this is the degree of randomness of the model's output\n",
    "        max_tokens=1024\n",
    "    )\n",
    "    return response.choices[0].message.content\n",
    "\n",
    "## ---------- Call the helper method\n",
    "\n",
    "### 1. Set primary content or prompt text\n",
    "text = f\"\"\"\n",
    "哦，你能看见吗\n",
    "\"\"\"\n",
    "\n",
    "### 2. Use that in the prompt template below\n",
    "prompt = f\"\"\"\n",
    "```{text}```\n",
    "\"\"\"\n",
    "\n",
    "## 3. Run the prompt\n",
    "response = get_completion(prompt)\n",
    "print(response)\n"
   ]
  },
  {
   "cell_type": "markdown",
   "metadata": {},
   "source": [
    "### 练习3：虚构情况\n",
    "探索当您要求LLM针对一个可能不存在的主题或者它在预训练数据集之外的主题进行完成时会发生什么。看看如果您尝试不同的提示词或不同的模型，响应会如何改变。"
   ]
  },
  {
   "cell_type": "code",
   "execution_count": 7,
   "metadata": {},
   "outputs": [
    {
     "name": "stdout",
     "output_type": "stream",
     "text": [
      "课程名称：2076年火星战争史\n",
      "\n",
      "课程目标：\n",
      "1. 了解2076年火星战争的历史背景和原因\n",
      "2. 分析火星战争对地球和火星的影响\n",
      "3. 探讨2076年火星战争的战略和战术\n",
      "4. 研究2076年火星战争的后果和教训\n",
      "\n",
      "课程大纲：\n",
      "\n",
      "第一周：2076年火星战争的背景和原因\n",
      "- 火星殖民地的发展和火星资源的争夺\n",
      "- 地球和火星之间的政治紧张局势\n",
      "- 火星殖民地的独立运动和火星人的反抗\n",
      "\n",
      "第二周：火星战争的爆发和发展\n",
      "- 火星殖民地的起义和地球军队的介入\n",
      "- 火星战争的战略部署和战术运用\n",
      "- 火星战争的持续时间和战争的规模\n",
      "\n",
      "第三周：火星战争的影响和后果\n",
      "- 火星战争对地球和火星的经济、社会和环境的影响\n",
      "- 火星战争对地球和火星的政治格局和国际关系的影响\n",
      "- 火星战争对地球和火星的科技发展和文化交流的影响\n",
      "\n",
      "第四周：2076年火星战争的教训和展望\n",
      "- 火星战争的教训和历史反思\n",
      "- 地球和火星的未来发展和合作前景\n",
      "- 个人对于2076年火星战争的思考和总结\n",
      "\n",
      "课程评估：\n",
      "- 课堂参与和讨论\n",
      "- 期中论文\n",
      "- 期末考试\n",
      "\n",
      "课程教材：\n",
      "- 《2076年火星战争史》\n",
      "- 《火星殖民地的兴起与发展》\n",
      "- 《地球和火星的政治关系》\n",
      "- 《火星战争的战略与战术》\n",
      "\n",
      "课程备注：\n",
      "本课程旨在通过对2076年火星战争的研究和分析，帮助学生了解战争的本质和影响，培养学生的历史意识和国际视野，引导学生思考和探讨未来人类的发展方向和和平共处的可能性。\n"
     ]
    }
   ],
   "source": [
    "\n",
    "## 设置简单提示或主要内容的文本\n",
    "## 提示符显示一个包含文本的模板格式-如果需要，可以添加提示、命令等\n",
    "## 运行补全\n",
    "\n",
    "text = f\"\"\"\n",
    "制作一份2076年火星战争的课程计划。\n",
    "\"\"\"\n",
    "\n",
    "prompt = f\"\"\"\n",
    "```{text}```\n",
    "\"\"\"\n",
    "\n",
    "response = get_completion(prompt)\n",
    "print(response)"
   ]
  },
  {
   "cell_type": "markdown",
   "metadata": {},
   "source": [
    "### 练习 4：基于指示\n",
    "使用 \"text\" 变量设置主要内容，并使用 \"prompt\" 变量提供与该主要内容相关的指示。\n",
    "\n",
    "这里我们要求模型为二年级学生总结这段文本"
   ]
  },
  {
   "cell_type": "code",
   "execution_count": 8,
   "metadata": {},
   "outputs": [
    {
     "name": "stdout",
     "output_type": "stream",
     "text": [
      "总结：木星是太阳系中第五远的行星，是一颗气体巨星，质量是太阳的千分之一，但是比太阳系中其他行星的总和还要大。木星是肉眼可见的最亮的天体之一，在夜空中可以看到它的亮度足以反射光线和投射可见阴影的光。它是古代文明所知的天体之一，以罗马神朱庇特命名。\n"
     ]
    }
   ],
   "source": [
    "# Test Example\n",
    "# https://platform.openai.com/playground/p/default-summarize\n",
    "\n",
    "## Example text\n",
    "text = f\"\"\"\n",
    "木星是距太阳和地球第五远的行星\n",
    "太阳系中最大的。它是一颗气体巨星\n",
    "质量是太阳的千分之一，但只有2.5倍\n",
    "是太阳系中所有其他行星的总和。\n",
    "木星是肉眼可见的最亮的天体之一\n",
    "在夜空中，自古以来就为古代文明所知\n",
    "在有记载的历史之前。它是以罗马神朱庇特命名的。[19] \n",
    "从地球上看，木星的亮度足以反射光线\n",
    "投射可见阴影的光，[20]平均是第三亮的\n",
    "夜空中仅次于月亮和金星的自然天体。\n",
    "\"\"\"\n",
    "\n",
    "## Set the prompt\n",
    "prompt = f\"\"\"\n",
    "总结你为二年级学生提供的内容。\n",
    "```{text}```\n",
    "\"\"\"\n",
    "\n",
    "## Run the prompt\n",
    "response = get_completion(prompt)\n",
    "print(response)"
   ]
  },
  {
   "cell_type": "markdown",
   "metadata": {},
   "source": [
    "### 练习 5: 复杂提示\n",
    "尝试一个包含系统、用户和助手消息的请求\n",
    "系统设置助手上下文\n",
    "用户和助手的消息提供多轮对话上下文\n",
    "\n",
    "注意助手的个性在系统上下文中被设置为“讽刺”。尝试使用不同的个性上下文。或尝试不同的一系列输入/输出消息"
   ]
  },
  {
   "cell_type": "code",
   "execution_count": 9,
   "metadata": {},
   "outputs": [
    {
     "name": "stdout",
     "output_type": "stream",
     "text": [
      "I'll humor you with an answer. The World Series was played in Arlington, Texas at Globe Life Field.\n"
     ]
    }
   ],
   "source": [
    "response = client.chat.completions.create(\n",
    "    model=deployment,\n",
    "    messages=[\n",
    "        {\"role\": \"system\", \"content\": \"You are a sarcastic assistant.\"},\n",
    "        {\"role\": \"user\", \"content\": \"Who won the world series in 2020?\"},\n",
    "        {\"role\": \"assistant\", \"content\": \"Who do you think won? The Los Angeles Dodgers of course.\"},\n",
    "        {\"role\": \"user\", \"content\": \"Where was it played?\"}\n",
    "    ]\n",
    ")\n",
    "print(response.choices[0].message.content)"
   ]
  },
  {
   "cell_type": "markdown",
   "metadata": {},
   "source": [
    "### 练习：探索你的直觉\n",
    "上面的例子为你提供了一些模式，你可以用它们来创建新的提示（简单的、复杂的、指示等等）。尝试创建其他练习，来探索我们讨论过的其他想法，比如例子、线索等等。"
   ]
  }
 ],
 "metadata": {
  "kernelspec": {
   "display_name": "Python 3 (ipykernel)",
   "language": "python",
   "name": "python3"
  },
  "language_info": {
   "codemirror_mode": {
    "name": "ipython",
    "version": 3
   },
   "file_extension": ".py",
   "mimetype": "text/x-python",
   "name": "python",
   "nbconvert_exporter": "python",
   "pygments_lexer": "ipython3",
   "version": "3.10.13"
  }
 },
 "nbformat": 4,
 "nbformat_minor": 2
}
